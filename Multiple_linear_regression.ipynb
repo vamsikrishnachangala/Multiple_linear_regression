{
  "nbformat": 4,
  "nbformat_minor": 0,
  "metadata": {
    "colab": {
      "name": "Multiple linear regression.ipynb",
      "provenance": []
    },
    "kernelspec": {
      "name": "python3",
      "display_name": "Python 3"
    }
  },
  "cells": [
    {
      "cell_type": "markdown",
      "metadata": {
        "id": "8JI04xLdvxuV",
        "colab_type": "text"
      },
      "source": [
        "Multiple linear regression"
      ]
    },
    {
      "cell_type": "markdown",
      "metadata": {
        "id": "cI06maYov24U",
        "colab_type": "text"
      },
      "source": [
        "importing required libraries"
      ]
    },
    {
      "cell_type": "code",
      "metadata": {
        "id": "ho8DIQfqvfjD",
        "colab_type": "code",
        "colab": {}
      },
      "source": [
        "import matplotlib.pyplot as plt\n",
        "import numpy as np\n",
        "import pandas as pd"
      ],
      "execution_count": 1,
      "outputs": []
    },
    {
      "cell_type": "markdown",
      "metadata": {
        "id": "QaHSR9vMwBGw",
        "colab_type": "text"
      },
      "source": [
        "setting max rows and max columns display in pandas"
      ]
    },
    {
      "cell_type": "code",
      "metadata": {
        "id": "t_0TFtxAwGSa",
        "colab_type": "code",
        "colab": {}
      },
      "source": [
        "pd.set_option('display.max_rows',100)\n",
        "pd.set_option('display.max_columns',100)"
      ],
      "execution_count": 2,
      "outputs": []
    },
    {
      "cell_type": "markdown",
      "metadata": {
        "id": "0cfoT7vuwPeG",
        "colab_type": "text"
      },
      "source": [
        "importing dataset"
      ]
    },
    {
      "cell_type": "code",
      "metadata": {
        "id": "KKZSSAJjwTE7",
        "colab_type": "code",
        "colab": {
          "base_uri": "https://localhost:8080/",
          "height": 874
        },
        "outputId": "f6309749-a883-46a2-91c8-8cedcd17d021"
      },
      "source": [
        "dataset=pd.read_csv('50_Startups.csv')\n",
        "print(dataset)"
      ],
      "execution_count": 3,
      "outputs": [
        {
          "output_type": "stream",
          "text": [
            "    R&D Spend  Administration  Marketing Spend       State     Profit\n",
            "0   165349.20       136897.80        471784.10    New York  192261.83\n",
            "1   162597.70       151377.59        443898.53  California  191792.06\n",
            "2   153441.51       101145.55        407934.54     Florida  191050.39\n",
            "3   144372.41       118671.85        383199.62    New York  182901.99\n",
            "4   142107.34        91391.77        366168.42     Florida  166187.94\n",
            "5   131876.90        99814.71        362861.36    New York  156991.12\n",
            "6   134615.46       147198.87        127716.82  California  156122.51\n",
            "7   130298.13       145530.06        323876.68     Florida  155752.60\n",
            "8   120542.52       148718.95        311613.29    New York  152211.77\n",
            "9   123334.88       108679.17        304981.62  California  149759.96\n",
            "10  101913.08       110594.11        229160.95     Florida  146121.95\n",
            "11  100671.96        91790.61        249744.55  California  144259.40\n",
            "12   93863.75       127320.38        249839.44     Florida  141585.52\n",
            "13   91992.39       135495.07        252664.93  California  134307.35\n",
            "14  119943.24       156547.42        256512.92     Florida  132602.65\n",
            "15  114523.61       122616.84        261776.23    New York  129917.04\n",
            "16   78013.11       121597.55        264346.06  California  126992.93\n",
            "17   94657.16       145077.58        282574.31    New York  125370.37\n",
            "18   91749.16       114175.79        294919.57     Florida  124266.90\n",
            "19   86419.70       153514.11             0.00    New York  122776.86\n",
            "20   76253.86       113867.30        298664.47  California  118474.03\n",
            "21   78389.47       153773.43        299737.29    New York  111313.02\n",
            "22   73994.56       122782.75        303319.26     Florida  110352.25\n",
            "23   67532.53       105751.03        304768.73     Florida  108733.99\n",
            "24   77044.01        99281.34        140574.81    New York  108552.04\n",
            "25   64664.71       139553.16        137962.62  California  107404.34\n",
            "26   75328.87       144135.98        134050.07     Florida  105733.54\n",
            "27   72107.60       127864.55        353183.81    New York  105008.31\n",
            "28   66051.52       182645.56        118148.20     Florida  103282.38\n",
            "29   65605.48       153032.06        107138.38    New York  101004.64\n",
            "30   61994.48       115641.28         91131.24     Florida   99937.59\n",
            "31   61136.38       152701.92         88218.23    New York   97483.56\n",
            "32   63408.86       129219.61         46085.25  California   97427.84\n",
            "33   55493.95       103057.49        214634.81     Florida   96778.92\n",
            "34   46426.07       157693.92        210797.67  California   96712.80\n",
            "35   46014.02        85047.44        205517.64    New York   96479.51\n",
            "36   28663.76       127056.21        201126.82     Florida   90708.19\n",
            "37   44069.95        51283.14        197029.42  California   89949.14\n",
            "38   20229.59        65947.93        185265.10    New York   81229.06\n",
            "39   38558.51        82982.09        174999.30  California   81005.76\n",
            "40   28754.33       118546.05        172795.67  California   78239.91\n",
            "41   27892.92        84710.77        164470.71     Florida   77798.83\n",
            "42   23640.93        96189.63        148001.11  California   71498.49\n",
            "43   15505.73       127382.30         35534.17    New York   69758.98\n",
            "44   22177.74       154806.14         28334.72  California   65200.33\n",
            "45    1000.23       124153.04          1903.93    New York   64926.08\n",
            "46    1315.46       115816.21        297114.46     Florida   49490.75\n",
            "47       0.00       135426.92             0.00  California   42559.73\n",
            "48     542.05        51743.15             0.00    New York   35673.41\n",
            "49       0.00       116983.80         45173.06  California   14681.40\n"
          ],
          "name": "stdout"
        }
      ]
    },
    {
      "cell_type": "markdown",
      "metadata": {
        "id": "xhNStbIf3bpt",
        "colab_type": "text"
      },
      "source": [
        "encoding the categorical variable"
      ]
    },
    {
      "cell_type": "code",
      "metadata": {
        "id": "n8cgudjq3fU9",
        "colab_type": "code",
        "colab": {
          "base_uri": "https://localhost:8080/",
          "height": 1000
        },
        "outputId": "dae70756-c04c-4798-dfb9-d6eda8f36ae1"
      },
      "source": [
        "dataset=pd.get_dummies(dataset,drop_first=True)\n",
        "print(dataset)"
      ],
      "execution_count": 6,
      "outputs": [
        {
          "output_type": "stream",
          "text": [
            "    R&D Spend  Administration  Marketing Spend     Profit  State_Florida  \\\n",
            "0   165349.20       136897.80        471784.10  192261.83              0   \n",
            "1   162597.70       151377.59        443898.53  191792.06              0   \n",
            "2   153441.51       101145.55        407934.54  191050.39              1   \n",
            "3   144372.41       118671.85        383199.62  182901.99              0   \n",
            "4   142107.34        91391.77        366168.42  166187.94              1   \n",
            "5   131876.90        99814.71        362861.36  156991.12              0   \n",
            "6   134615.46       147198.87        127716.82  156122.51              0   \n",
            "7   130298.13       145530.06        323876.68  155752.60              1   \n",
            "8   120542.52       148718.95        311613.29  152211.77              0   \n",
            "9   123334.88       108679.17        304981.62  149759.96              0   \n",
            "10  101913.08       110594.11        229160.95  146121.95              1   \n",
            "11  100671.96        91790.61        249744.55  144259.40              0   \n",
            "12   93863.75       127320.38        249839.44  141585.52              1   \n",
            "13   91992.39       135495.07        252664.93  134307.35              0   \n",
            "14  119943.24       156547.42        256512.92  132602.65              1   \n",
            "15  114523.61       122616.84        261776.23  129917.04              0   \n",
            "16   78013.11       121597.55        264346.06  126992.93              0   \n",
            "17   94657.16       145077.58        282574.31  125370.37              0   \n",
            "18   91749.16       114175.79        294919.57  124266.90              1   \n",
            "19   86419.70       153514.11             0.00  122776.86              0   \n",
            "20   76253.86       113867.30        298664.47  118474.03              0   \n",
            "21   78389.47       153773.43        299737.29  111313.02              0   \n",
            "22   73994.56       122782.75        303319.26  110352.25              1   \n",
            "23   67532.53       105751.03        304768.73  108733.99              1   \n",
            "24   77044.01        99281.34        140574.81  108552.04              0   \n",
            "25   64664.71       139553.16        137962.62  107404.34              0   \n",
            "26   75328.87       144135.98        134050.07  105733.54              1   \n",
            "27   72107.60       127864.55        353183.81  105008.31              0   \n",
            "28   66051.52       182645.56        118148.20  103282.38              1   \n",
            "29   65605.48       153032.06        107138.38  101004.64              0   \n",
            "30   61994.48       115641.28         91131.24   99937.59              1   \n",
            "31   61136.38       152701.92         88218.23   97483.56              0   \n",
            "32   63408.86       129219.61         46085.25   97427.84              0   \n",
            "33   55493.95       103057.49        214634.81   96778.92              1   \n",
            "34   46426.07       157693.92        210797.67   96712.80              0   \n",
            "35   46014.02        85047.44        205517.64   96479.51              0   \n",
            "36   28663.76       127056.21        201126.82   90708.19              1   \n",
            "37   44069.95        51283.14        197029.42   89949.14              0   \n",
            "38   20229.59        65947.93        185265.10   81229.06              0   \n",
            "39   38558.51        82982.09        174999.30   81005.76              0   \n",
            "40   28754.33       118546.05        172795.67   78239.91              0   \n",
            "41   27892.92        84710.77        164470.71   77798.83              1   \n",
            "42   23640.93        96189.63        148001.11   71498.49              0   \n",
            "43   15505.73       127382.30         35534.17   69758.98              0   \n",
            "44   22177.74       154806.14         28334.72   65200.33              0   \n",
            "45    1000.23       124153.04          1903.93   64926.08              0   \n",
            "46    1315.46       115816.21        297114.46   49490.75              1   \n",
            "47       0.00       135426.92             0.00   42559.73              0   \n",
            "48     542.05        51743.15             0.00   35673.41              0   \n",
            "49       0.00       116983.80         45173.06   14681.40              0   \n",
            "\n",
            "    State_New York  \n",
            "0                1  \n",
            "1                0  \n",
            "2                0  \n",
            "3                1  \n",
            "4                0  \n",
            "5                1  \n",
            "6                0  \n",
            "7                0  \n",
            "8                1  \n",
            "9                0  \n",
            "10               0  \n",
            "11               0  \n",
            "12               0  \n",
            "13               0  \n",
            "14               0  \n",
            "15               1  \n",
            "16               0  \n",
            "17               1  \n",
            "18               0  \n",
            "19               1  \n",
            "20               0  \n",
            "21               1  \n",
            "22               0  \n",
            "23               0  \n",
            "24               1  \n",
            "25               0  \n",
            "26               0  \n",
            "27               1  \n",
            "28               0  \n",
            "29               1  \n",
            "30               0  \n",
            "31               1  \n",
            "32               0  \n",
            "33               0  \n",
            "34               0  \n",
            "35               1  \n",
            "36               0  \n",
            "37               0  \n",
            "38               1  \n",
            "39               0  \n",
            "40               0  \n",
            "41               0  \n",
            "42               0  \n",
            "43               1  \n",
            "44               0  \n",
            "45               1  \n",
            "46               0  \n",
            "47               0  \n",
            "48               1  \n",
            "49               0  \n"
          ],
          "name": "stdout"
        }
      ]
    },
    {
      "cell_type": "markdown",
      "metadata": {
        "id": "Y-XH7G2S3Lj9",
        "colab_type": "text"
      },
      "source": [
        "splitting data into independent and dependent variables"
      ]
    },
    {
      "cell_type": "code",
      "metadata": {
        "id": "Xq2p8RsS3STO",
        "colab_type": "code",
        "colab": {}
      },
      "source": [
        "x=dataset.drop(columns=['Profit']).iloc[:,:].values\n",
        "y=dataset['Profit'].iloc[:].values"
      ],
      "execution_count": 7,
      "outputs": []
    },
    {
      "cell_type": "markdown",
      "metadata": {
        "id": "_hJ4O-2N4HG4",
        "colab_type": "text"
      },
      "source": [
        "splitting into train and test"
      ]
    },
    {
      "cell_type": "code",
      "metadata": {
        "id": "4eDIkE2u4kQ6",
        "colab_type": "code",
        "colab": {}
      },
      "source": [
        "from sklearn.model_selection import train_test_split\n",
        "x_train,x_test,y_train,y_test=train_test_split(x,y,test_size=0.2)"
      ],
      "execution_count": 8,
      "outputs": []
    },
    {
      "cell_type": "markdown",
      "metadata": {
        "id": "jHxsmLCN5ZZx",
        "colab_type": "text"
      },
      "source": [
        "training multi linear regression"
      ]
    },
    {
      "cell_type": "code",
      "metadata": {
        "id": "csppFcY95dSD",
        "colab_type": "code",
        "colab": {
          "base_uri": "https://localhost:8080/",
          "height": 34
        },
        "outputId": "b7cb51b9-af9f-4ef2-f0c3-b96aee327b98"
      },
      "source": [
        "from sklearn.linear_model import LinearRegression\n",
        "lr=LinearRegression()\n",
        "lr.fit(x_train,y_train)"
      ],
      "execution_count": 9,
      "outputs": [
        {
          "output_type": "execute_result",
          "data": {
            "text/plain": [
              "LinearRegression(copy_X=True, fit_intercept=True, n_jobs=None, normalize=False)"
            ]
          },
          "metadata": {
            "tags": []
          },
          "execution_count": 9
        }
      ]
    },
    {
      "cell_type": "markdown",
      "metadata": {
        "id": "j9HcujC855Hd",
        "colab_type": "text"
      },
      "source": [
        "predicting test set results"
      ]
    },
    {
      "cell_type": "code",
      "metadata": {
        "id": "mw1sa52U58vr",
        "colab_type": "code",
        "colab": {}
      },
      "source": [
        "y_pred=lr.predict(x_test)"
      ],
      "execution_count": 10,
      "outputs": []
    },
    {
      "cell_type": "markdown",
      "metadata": {
        "id": "Ye_Eglau6DlI",
        "colab_type": "text"
      },
      "source": [
        "r2 score"
      ]
    },
    {
      "cell_type": "code",
      "metadata": {
        "id": "3RnuMNf66FNG",
        "colab_type": "code",
        "colab": {
          "base_uri": "https://localhost:8080/",
          "height": 34
        },
        "outputId": "e99f48c6-e163-433c-988e-73a72ba555e4"
      },
      "source": [
        "from sklearn.metrics import r2_score\n",
        "r2_score(y_test,y_pred)"
      ],
      "execution_count": 11,
      "outputs": [
        {
          "output_type": "execute_result",
          "data": {
            "text/plain": [
              "0.9384488461263936"
            ]
          },
          "metadata": {
            "tags": []
          },
          "execution_count": 11
        }
      ]
    },
    {
      "cell_type": "markdown",
      "metadata": {
        "id": "RrrHVbem7ulo",
        "colab_type": "text"
      },
      "source": [
        "here we got 93% accuracy"
      ]
    },
    {
      "cell_type": "markdown",
      "metadata": {
        "id": "NvDQMTD-6Vjo",
        "colab_type": "text"
      },
      "source": [
        "visualising the test set results"
      ]
    },
    {
      "cell_type": "code",
      "metadata": {
        "id": "OHy26ukz6Y_C",
        "colab_type": "code",
        "colab": {
          "base_uri": "https://localhost:8080/",
          "height": 202
        },
        "outputId": "0eed7693-6d77-4fa3-84ed-fc25ba2dca39"
      },
      "source": [
        "df=pd.DataFrame([y_test,y_pred]).T\n",
        "print(df)"
      ],
      "execution_count": 18,
      "outputs": [
        {
          "output_type": "stream",
          "text": [
            "           0              1\n",
            "0  156122.51  156848.720587\n",
            "1  125370.37  132544.243030\n",
            "2  149759.96  155026.140582\n",
            "3   96479.51   91620.834965\n",
            "4  124266.90  129671.038446\n",
            "5  107404.34  102217.157934\n",
            "6  105008.31  117613.759002\n",
            "7  111313.02  120349.173723\n",
            "8   81005.76   83417.468766\n",
            "9   71498.49   70556.064158\n"
          ],
          "name": "stdout"
        }
      ]
    }
  ]
}